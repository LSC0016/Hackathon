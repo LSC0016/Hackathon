{
 "cells": [
  {
   "cell_type": "code",
   "execution_count": 1,
   "metadata": {},
   "outputs": [
    {
     "name": "stderr",
     "output_type": "stream",
     "text": [
      "/Users/kaiyuyokoi/.pyenv/versions/3.7.5/lib/python3.7/site-packages/pandas/compat/__init__.py:124: UserWarning: Could not import the lzma module. Your installed Python is incomplete. Attempting to use lzma compression will result in a RuntimeError.\n",
      "  warnings.warn(msg)\n",
      "2022-10-16 14:26:45.458655: I tensorflow/core/platform/cpu_feature_guard.cc:193] This TensorFlow binary is optimized with oneAPI Deep Neural Network Library (oneDNN) to use the following CPU instructions in performance-critical operations:  AVX2 FMA\n",
      "To enable them in other operations, rebuild TensorFlow with the appropriate compiler flags.\n"
     ]
    }
   ],
   "source": [
    "#install library\n",
    "import matplotlib.pyplot as plt\n",
    "import glob\n",
    "import cv2\n",
    "import pandas as pd\n",
    "import numpy as np\n",
    "from sklearn.model_selection import train_test_split\n",
    "import tensorflow as tf\n",
    "from tensorflow import keras\n",
    "from PIL import Image\n",
    "from tensorflow.keras import layers, models\n",
    "from tensorflow.keras.utils import to_categorical\n",
    "from sklearn.preprocessing import OneHotEncoder \n",
    "import os"
   ]
  },
  {
   "cell_type": "code",
   "execution_count": 2,
   "metadata": {},
   "outputs": [],
   "source": [
    "encoder = OneHotEncoder()\n",
    "encoder.fit([[0], [1]]) \n",
    "paths = []\n",
    "data = []\n",
    "result = []\n",
    "\n",
    "for r, d, f in os.walk('/Users/kaiyuyokoi/Desktop/braintumor/no'):\n",
    "    for file in f:\n",
    "        if '.jpg' in file:\n",
    "            paths.append(os.path.join(r, file))\n",
    "\n",
    "for path in paths:\n",
    "    img = Image.open(path)\n",
    "    img = img.resize((128,128))\n",
    "    img = np.array(img)\n",
    "    if(img.shape == (128,128,3)):\n",
    "        data.append(np.array(img))\n",
    "        result.append(encoder.transform([[1]]).toarray())\n",
    "    "
   ]
  },
  {
   "cell_type": "code",
   "execution_count": 3,
   "metadata": {},
   "outputs": [],
   "source": [
    "# This cell updates result list for images without tumor\n",
    "\n",
    "paths = []\n",
    "for r, d, f in os.walk('/Users/kaiyuyokoi/Desktop/braintumor/yes'):\n",
    "    for file in f:\n",
    "        if '.jpg' in file:\n",
    "            paths.append(os.path.join(r, file))\n",
    "\n",
    "for path in paths:\n",
    "    img = Image.open(path)\n",
    "    img = img.resize((128,128))\n",
    "    img = np.array(img)\n",
    "    if(img.shape == (128,128,3)):\n",
    "        data.append(np.array(img))\n",
    "        result.append(encoder.transform([[0]]).toarray())"
   ]
  },
  {
   "cell_type": "code",
   "execution_count": 4,
   "metadata": {},
   "outputs": [
    {
     "data": {
      "text/plain": [
       "(138, 128, 128, 3)"
      ]
     },
     "execution_count": 4,
     "metadata": {},
     "output_type": "execute_result"
    }
   ],
   "source": [
    "data = np.array(data)\n",
    "data.shape"
   ]
  },
  {
   "cell_type": "code",
   "execution_count": 6,
   "metadata": {},
   "outputs": [
    {
     "ename": "ValueError",
     "evalue": "cannot reshape array of size 276 into shape (139,2)",
     "output_type": "error",
     "traceback": [
      "\u001b[0;31m---------------------------------------------------------------------------\u001b[0m",
      "\u001b[0;31mValueError\u001b[0m                                Traceback (most recent call last)",
      "\u001b[0;32m/var/folders/l6/5n4lgrcs43j1x3qdgsv9hq9r0000gn/T/ipykernel_806/2629516217.py\u001b[0m in \u001b[0;36m<module>\u001b[0;34m\u001b[0m\n\u001b[1;32m      1\u001b[0m \u001b[0mresult\u001b[0m \u001b[0;34m=\u001b[0m \u001b[0mnp\u001b[0m\u001b[0;34m.\u001b[0m\u001b[0marray\u001b[0m\u001b[0;34m(\u001b[0m\u001b[0mresult\u001b[0m\u001b[0;34m)\u001b[0m\u001b[0;34m\u001b[0m\u001b[0;34m\u001b[0m\u001b[0m\n\u001b[0;32m----> 2\u001b[0;31m \u001b[0mresult\u001b[0m \u001b[0;34m=\u001b[0m \u001b[0mresult\u001b[0m\u001b[0;34m.\u001b[0m\u001b[0mreshape\u001b[0m\u001b[0;34m(\u001b[0m\u001b[0;36m139\u001b[0m\u001b[0;34m,\u001b[0m\u001b[0;36m2\u001b[0m\u001b[0;34m)\u001b[0m\u001b[0;34m\u001b[0m\u001b[0;34m\u001b[0m\u001b[0m\n\u001b[0m",
      "\u001b[0;31mValueError\u001b[0m: cannot reshape array of size 276 into shape (139,2)"
     ]
    }
   ],
   "source": [
    "result = np.array(result)\n",
    "result = result.reshape(139,2)"
   ]
  },
  {
   "cell_type": "code",
   "execution_count": 57,
   "metadata": {},
   "outputs": [],
   "source": [
    "from keras.models import Sequential\n",
    "from keras.layers import Conv2D, MaxPooling2D\n",
    "from keras.layers import Activation, Dropout, Flatten, Dense, BatchNormalization\n",
    "from keras.utils import np_utils\n",
    "import keras\n",
    "import numpy as np\n",
    "from tensorflow.keras import optimizers"
   ]
  },
  {
   "cell_type": "code",
   "execution_count": 58,
   "metadata": {},
   "outputs": [
    {
     "name": "stdout",
     "output_type": "stream",
     "text": [
      "Epoch 1/30\n",
      "3/3 [==============================] - 5s 1s/step - loss: 25.2199 - val_loss: 147.3713\n",
      "Epoch 2/30\n",
      "3/3 [==============================] - 3s 1s/step - loss: 26.7084 - val_loss: 13.8383\n",
      "Epoch 3/30\n",
      "3/3 [==============================] - 4s 1s/step - loss: 8.8102 - val_loss: 4.8174\n",
      "Epoch 4/30\n",
      "3/3 [==============================] - 4s 1s/step - loss: 5.6163 - val_loss: 21.8787\n",
      "Epoch 5/30\n",
      "3/3 [==============================] - 3s 1s/step - loss: 4.8778 - val_loss: 19.4675\n",
      "Epoch 6/30\n",
      "3/3 [==============================] - 3s 1s/step - loss: 2.2329 - val_loss: 4.7536\n",
      "Epoch 7/30\n",
      "3/3 [==============================] - 3s 880ms/step - loss: 1.4322 - val_loss: 1.4194\n",
      "Epoch 8/30\n",
      "3/3 [==============================] - 3s 836ms/step - loss: 0.8505 - val_loss: 1.4725\n",
      "Epoch 9/30\n",
      "3/3 [==============================] - 3s 1s/step - loss: 1.3102 - val_loss: 2.4435\n",
      "Epoch 10/30\n",
      "3/3 [==============================] - 3s 1s/step - loss: 0.2758 - val_loss: 4.4880\n",
      "Epoch 11/30\n",
      "3/3 [==============================] - 3s 1s/step - loss: 0.1809 - val_loss: 4.9051\n",
      "Epoch 12/30\n",
      "3/3 [==============================] - 4s 1s/step - loss: 0.1985 - val_loss: 4.5530\n",
      "Epoch 13/30\n",
      "3/3 [==============================] - 4s 1s/step - loss: 0.1886 - val_loss: 3.9774\n",
      "Epoch 14/30\n",
      "3/3 [==============================] - 3s 1s/step - loss: 0.1706 - val_loss: 3.3516\n",
      "Epoch 15/30\n",
      "3/3 [==============================] - 3s 994ms/step - loss: 0.0319 - val_loss: 2.9740\n",
      "Epoch 16/30\n",
      "3/3 [==============================] - 3s 1s/step - loss: 0.0523 - val_loss: 3.1064\n",
      "Epoch 17/30\n",
      "3/3 [==============================] - 3s 969ms/step - loss: 0.1555 - val_loss: 3.7026\n",
      "Epoch 18/30\n",
      "3/3 [==============================] - 3s 1s/step - loss: 0.0953 - val_loss: 4.0456\n",
      "Epoch 19/30\n",
      "3/3 [==============================] - 4s 1s/step - loss: 0.0387 - val_loss: 3.9153\n",
      "Epoch 20/30\n",
      "3/3 [==============================] - 3s 1s/step - loss: 0.0113 - val_loss: 3.5898\n",
      "Epoch 21/30\n",
      "3/3 [==============================] - 3s 983ms/step - loss: 0.1756 - val_loss: 3.4962\n",
      "Epoch 22/30\n",
      "3/3 [==============================] - 3s 840ms/step - loss: 0.0331 - val_loss: 3.6291\n",
      "Epoch 23/30\n",
      "3/3 [==============================] - 3s 855ms/step - loss: 0.1164 - val_loss: 3.3725\n",
      "Epoch 24/30\n",
      "3/3 [==============================] - 3s 853ms/step - loss: 0.1267 - val_loss: 2.9991\n",
      "Epoch 25/30\n",
      "3/3 [==============================] - 3s 900ms/step - loss: 0.0036 - val_loss: 2.7463\n",
      "Epoch 26/30\n",
      "3/3 [==============================] - 3s 827ms/step - loss: 1.1604e-04 - val_loss: 2.5351\n",
      "Epoch 27/30\n",
      "3/3 [==============================] - 3s 849ms/step - loss: 7.2657e-05 - val_loss: 2.3764\n",
      "Epoch 28/30\n",
      "3/3 [==============================] - 3s 832ms/step - loss: 0.0140 - val_loss: 2.2130\n",
      "Epoch 29/30\n",
      "3/3 [==============================] - 3s 842ms/step - loss: 0.0073 - val_loss: 2.0723\n",
      "Epoch 30/30\n",
      "3/3 [==============================] - 3s 835ms/step - loss: 1.1192e-04 - val_loss: 1.9596\n"
     ]
    }
   ],
   "source": [
    "def train(x_train, x_test, y_train, y_test):\n",
    "    model = Sequential()\n",
    "\n",
    "    model.add(Conv2D(32, kernel_size=(2, 2), input_shape=(128, 128, 3), padding = 'Same'))\n",
    "    model.add(Conv2D(32, kernel_size=(2, 2),  activation ='relu', padding = 'Same'))\n",
    "\n",
    "\n",
    "    model.add(BatchNormalization())\n",
    "    model.add(MaxPooling2D(pool_size=(2, 2)))\n",
    "    model.add(Dropout(0.25))\n",
    "\n",
    "    model.add(Conv2D(64, kernel_size = (2,2), activation ='relu', padding = 'Same'))\n",
    "    model.add(Conv2D(64, kernel_size = (2,2), activation ='relu', padding = 'Same'))\n",
    "\n",
    "    model.add(BatchNormalization())\n",
    "    model.add(MaxPooling2D(pool_size=(2,2), strides=(2,2)))\n",
    "    model.add(Dropout(0.25))\n",
    "\n",
    "    model.add(Flatten())\n",
    "\n",
    "    model.add(Dense(512, activation='relu'))\n",
    "    model.add(Dropout(0.5))\n",
    "    model.add(Dense(2, activation='softmax'))\n",
    "\n",
    "    model.compile(loss = \"categorical_crossentropy\", optimizer='Adamax')\n",
    "    model.fit(x_train, y_train, epochs = 30, batch_size = 40, verbose = 1, validation_data = (x_test, y_test))\n",
    "    model.save('./cnn.h5')\n",
    "    return model \n",
    "\n",
    "def main():\n",
    "    x_train,x_test,y_train,y_test = train_test_split(data, result, test_size=0.2, shuffle=True, random_state=0)\n",
    "    model = train(x_train, x_test, y_train, y_test)\n",
    "\n",
    "main()"
   ]
  }
 ],
 "metadata": {
  "kernelspec": {
   "display_name": "Python 3.7.5 64-bit ('3.7.5')",
   "language": "python",
   "name": "python3"
  },
  "language_info": {
   "codemirror_mode": {
    "name": "ipython",
    "version": 3
   },
   "file_extension": ".py",
   "mimetype": "text/x-python",
   "name": "python",
   "nbconvert_exporter": "python",
   "pygments_lexer": "ipython3",
   "version": "3.7.5"
  },
  "orig_nbformat": 4,
  "vscode": {
   "interpreter": {
    "hash": "45f9bbb8f7e3f8933580a9410ed22931a9936ba280be7945dbe18565235e9906"
   }
  }
 },
 "nbformat": 4,
 "nbformat_minor": 2
}
